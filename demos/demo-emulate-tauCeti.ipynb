{
 "cells": [
  {
   "cell_type": "markdown",
   "metadata": {},
   "source": [
    "# Tau Ceti\n",
    "<a id='top'></a>\n",
    "\n",
    "Here we consider tau Ceti star and assume it has no companions to compare to other packages. This demo reproduces Figure 11 in the paper."
   ]
  },
  {
   "cell_type": "markdown",
   "metadata": {},
   "source": [
    "## Command\n",
    "\n",
    "Execute PEXO with the command below. This may take a few minutes to compute.\n",
    "\n",
    "### Parameters:\n",
    "\n",
    "`-m emulate` - emulation mode\n",
    "\n",
    "`-c TR` - compute timing and radual velocity models\n",
    "\n",
    "`-t ../input/mjd42000to52000by10day.tim` - [timing file](../input/mjd42000to52000by10day.tim), containing MJDs from 42000 to 52000 with a step of one day\n",
    "\n",
    "`-p ../input/TC_Fig11b.par` - [system parameters file](../input/TC_Fig11b.par), containing the information about the stellar system configuration\n"
   ]
  },
  {
   "cell_type": "code",
   "execution_count": 12,
   "metadata": {},
   "outputs": [
    {
     "output_type": "stream",
     "name": "stdout",
     "text": "/home/timberhill/repositories/pexo/code\nLoading required package: polynom\n\nAttaching package: ‘pracma’\n\nThe following object is masked from ‘package:polynom’:\n\n    integral\n\nread header: ../data/de430t/header.430t \nCalculate TDB-TT using JPL ephemeris!\nCalculate TDB-TT using JPL ephemeris!\nCalculate TDB-TT using JPL ephemeris!\nelevation angle < 0 for  438 UTC epochs!\nelevation angle < 0 for  438 UTC epochs!\nelevation angle < 0 for  438 UTC epochs!\nelevation angle < 0 for  438 UTC epochs!\nok5\nok6\n\nTiming effects:\nDifference in Roemer delay using uSB and uST as the reference direction: 9.549694e-12 second\nInstant second order roemer delay in the solar system: 0.0002881662 second\nCummulative third order roemer delay in the solar system: 8.218333e-08 second\nEinstein delay in the solar system: 0.001692592 second\nShapiro delay due to all solar system objects: 2.982565e-05 second\nShapiro delay due to Sun : 2.980214e-05 second\nShapiro delay due to Mercury : 6.452055e-12 second\nShapiro delay due to Venus : 1.04666e-10 second\nShapiro delay due to Earth : 5.519808e-11 second\nShapiro delay due to Moon : 6.789385e-13 second\nShapiro delay due to Mars : 1.708007e-11 second\nShapiro delay due to Jupiter : 3.428174e-08 second\nShapiro delay due to Saturn : 9.879897e-09 second\nShapiro delay due to Uranus : 5.810513e-10 second\nShapiro delay due to Neptune : 4.465742e-10 second\nShapiro delay due to all planets: 4.128583e-08 second\nDelay due to proper motion: 1825.009 second\nRoemer delay in the target system: 0 second\nEinstein delay in the target system: 0 second\nShapiro delay in TS: 0 second\nDelay due to atmospheric effect: 8.515035e-08 second\noutput pdf:\n ../results/timing_TauCeti_tempoFB90_DE430_ttt2tdbeph_none.pdf \nError in pdf(fout1, 16, 16) : \n  cannot open file '../results/timing_TauCeti_tempoFB90_DE430_ttt2tdbeph_none.pdf'\nCalls: source ... eval -> source -> withVisible -> eval -> eval -> pdf\nExecution halted\n"
    }
   ],
   "source": [
    "%cd ../code\n",
    "! ~/soft/R-3.6.1/bin/Rscript pexo.R -m emulate -c TR -t ../input/mjd42000to52000by10day.tim -p ../input/TC_Fig11b.par"
   ]
  },
  {
   "cell_type": "code",
   "execution_count": 25,
   "metadata": {},
   "outputs": [
    {
     "output_type": "error",
     "ename": "ImportError",
     "evalue": "cannot import name 'PDF' from 'utilities' (/home/timberhill/soft/miniconda3/lib/python3.7/site-packages/bayfordbury-0.1-py3.7.egg/utilities/__init__.py)",
     "traceback": [
      "\u001b[0;31m---------------------------------------------------------------------------\u001b[0m",
      "\u001b[0;31mImportError\u001b[0m                               Traceback (most recent call last)",
      "\u001b[0;32m<ipython-input-25-bfbafe6c2dff>\u001b[0m in \u001b[0;36m<module>\u001b[0;34m\u001b[0m\n\u001b[0;32m----> 1\u001b[0;31m \u001b[0;32mfrom\u001b[0m \u001b[0mutilities\u001b[0m \u001b[0;32mimport\u001b[0m \u001b[0mPDF\u001b[0m\u001b[0;34m\u001b[0m\u001b[0;34m\u001b[0m\u001b[0m\n\u001b[0m",
      "\u001b[0;31mImportError\u001b[0m: cannot import name 'PDF' from 'utilities' (/home/timberhill/soft/miniconda3/lib/python3.7/site-packages/bayfordbury-0.1-py3.7.egg/utilities/__init__.py)"
     ]
    }
   ],
   "source": [
    "from utilities import PDF\n",
    "PDF(\"../results/paper_RV_TauCeti_tempoFB90_DE430_ttt2tdbeph_none.pdf\", size=(500, 450))"
   ]
  },
  {
   "cell_type": "code",
   "execution_count": null,
   "metadata": {},
   "outputs": [],
   "source": []
  }
 ],
 "metadata": {
  "kernelspec": {
   "display_name": "Python 3",
   "language": "python",
   "name": "python3"
  },
  "language_info": {
   "codemirror_mode": {
    "name": "ipython",
    "version": 3
   },
   "file_extension": ".py",
   "mimetype": "text/x-python",
   "name": "python",
   "nbconvert_exporter": "python",
   "pygments_lexer": "ipython3",
   "version": "3.7.4-final"
  }
 },
 "nbformat": 4,
 "nbformat_minor": 4
}