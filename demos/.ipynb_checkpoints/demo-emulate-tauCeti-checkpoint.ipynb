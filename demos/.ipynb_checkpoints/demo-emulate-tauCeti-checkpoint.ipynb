{
 "cells": [
  {
   "cell_type": "markdown",
   "metadata": {},
   "source": [
    "# Tau Ceti\n",
    "<a id='top'></a>\n",
    "\n",
    "Here we consider tau Ceti star and assume it has no companions to compare to other packages. This demo reproduces Figure 11 in the paper."
   ]
  }
 ],
 "metadata": {
  "kernelspec": {
   "display_name": "R",
   "language": "R",
   "name": "ir"
  },
  "language_info": {
   "codemirror_mode": "r",
   "file_extension": ".r",
   "mimetype": "text/x-r-source",
   "name": "R",
   "pygments_lexer": "r",
   "version": "3.6.1"
  }
 },
 "nbformat": 4,
 "nbformat_minor": 4
}
