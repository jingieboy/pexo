{
 "cells": [
  {
   "cell_type": "markdown",
   "metadata": {},
   "source": [
    "[< list of demos](Introduction.ipynb#demos)\n",
    "\n",
    "<a id='top'></a>\n",
    "# Binary orbit fit - Alpha Centuri B\n",
    "\n",
    "This demo shows how to fit a binary model to data, using [HD 128621](http://simbad.u-strasbg.fr/simbad/sim-id?Ident=HD+128621) as an example."
   ]
  },
  {
   "cell_type": "markdown",
   "metadata": {},
   "source": [
    "## Arguments:\n",
    "\n",
    "`-p HD128621` - primary star. PEXO retieves target information from Simbad and astrometry from Gaia/Hipparcos\n",
    "\n",
    "`-s HD10700B` - secondary star\n",
    "\n",
    "`-i 'HARPS'` - instrument: HARPS\n",
    "\n",
    "`-t '2450000 2460000 10'` - epochs, JD from 2450000 to 2460000, every 10 days\n",
    "\n",
    "`-m emulate` - PEXO mode\n",
    "\n",
    "`-v 'JDutc BJDtdb BJDtcb` - output variables\n",
    "\n",
    "`-o ../results/aCenB-out.txt` - output file"
   ]
  },
  {
   "cell_type": "markdown",
   "metadata": {},
   "source": [
    "### Parameter file\n",
    "\n",
    "To specify binary system parameters, create a `.par` file with the following quantities:\n",
    "\n",
    "- `secondary` - secondary name\n",
    "\n",
    "- `mass` - the primary mass in solar units\n",
    "\n",
    "- `logmC` - the companion(secondary) mass in log solar units\n",
    "\n",
    "- `logP` - the period in log scale of days\n",
    "\n",
    "- `e` - the eccentricity\n",
    "\n",
    "- `omegaT` - the target star argument of periastron\n",
    "\n",
    "- `Omega` - the longitude of ascending node\n",
    "\n",
    "- `Tp` - the epoch at the periastron\n",
    "\n",
    "Save the file to `pexo/input/<starname>.par` and PEXO will find it using the primary star name you specify.\n",
    "\n",
    "The [example file](../input/HD128621.par) contents for this demo are shown below:"
   ]
  },
  {
   "cell_type": "code",
   "execution_count": 1,
   "metadata": {},
   "outputs": [
    {
     "data": {
      "text/html": [
       "<table style=\"text-align: left; font-size: 10pt\"><tr><td style=\"text-align: left; min-width:100px\">secondary</td><td style=\"text-align: left; min-width:100px\">HD128620\n",
       "</td></tr><tr><td style=\"text-align: left; min-width:100px\">mass</td><td style=\"text-align: left; min-width:100px\">0.9373\n",
       "</td></tr><tr><td style=\"text-align: left; min-width:100px\">logmC</td><td style=\"text-align: left; min-width:100px\">-0.06475\n",
       "</td></tr><tr><td style=\"text-align: left; min-width:100px\">logP</td><td style=\"text-align: left; min-width:100px\">10.281\n",
       "</td></tr><tr><td style=\"text-align: left; min-width:100px\">e</td><td style=\"text-align: left; min-width:100px\">79.32\n",
       "</td></tr><tr><td style=\"text-align: left; min-width:100px\">omegaT</td><td style=\"text-align: left; min-width:100px\">52\n",
       "</td></tr><tr><td style=\"text-align: left; min-width:100px\">Omega</td><td style=\"text-align: left; min-width:100px\">205\n",
       "</td></tr><tr><td style=\"text-align: left; min-width:100px\">Tp</td><td style=\"text-align: left; min-width:100px\">2435328.96\n",
       "</td></tr></table>"
      ],
      "text/plain": [
       "<utilities.Table at 0x7ff498e78950>"
      ]
     },
     "execution_count": 1,
     "metadata": {},
     "output_type": "execute_result"
    }
   ],
   "source": [
    "from utilities import Table\n",
    "Table(\"../input/HD128621.par\", take_all=True, header=None)"
   ]
  },
  {
   "cell_type": "markdown",
   "metadata": {},
   "source": [
    "## Run the code\n",
    "\n",
    "Execute PEXO with the command below. This may take a few minutes to compute."
   ]
  },
  {
   "cell_type": "code",
   "execution_count": 4,
   "metadata": {
    "scrolled": true
   },
   "outputs": [
    {
     "name": "stdout",
     "output_type": "stream",
     "text": [
      "/home/timberhill/repositories/pexo/code\n",
      "Warning message:\n",
      "package ‘optparse’ was built under R version 3.6.3 \n",
      "Loading required package: polynom\n",
      "Warning messages:\n",
      "1: package ‘orthopolynom’ was built under R version 3.6.3 \n",
      "2: package ‘polynom’ was built under R version 3.6.3 \n",
      "\n",
      "Attaching package: ‘pracma’\n",
      "\n",
      "The following object is masked from ‘package:polynom’:\n",
      "\n",
      "    integral\n",
      "\n",
      "Warning message:\n",
      "package ‘pracma’ was built under R version 3.6.3 \n",
      "Warning message:\n",
      "package ‘foreach’ was built under R version 3.6.3 \n",
      "Loading required package: iterators\n",
      "Loading required package: parallel\n",
      "Warning messages:\n",
      "1: package ‘doMC’ was built under R version 3.6.3 \n",
      "2: package ‘iterators’ was built under R version 3.6.3 \n",
      "Warning message:\n",
      "package ‘MASS’ was built under R version 3.6.3 \n",
      "\n",
      "Without input binary parameters and thus reading binary parameters from  ../input/HD128621.par !\n",
      "\n",
      "Input Parameters:\n",
      "mode = fit \tins = NA \tNiter = 1000 \tPlanet = 1 \tgeometry = TRUE \tncore = 4 \tcomponent = TAR \ttime = 2450000 2460000 100 \tprimary = HD128621 \tmass = 0.9373 \tvar = BJDtcb BJDtdb RvTot ZB \tout = ../results/aCen-fit.out \tfigure = FALSE \tverbose = FALSE \thelp = FALSE \tdata = ../input/HD128621 \tsecondary = HD128620 \tlogmC = -0.06475 \tlogP = 10.281 \te = 79.32 \tomegaT = 52 \tOmega = 205 \tTp = 2435328.96 \torbit = -0.06475 10.281 79.32 NA 52 205 2435328.96 \tpar = ../input/basic.par \t\n",
      "\n",
      "Read data files:\n",
      "1 .rv file found in  ../input/HD128621 !\n",
      "4 .rv file found in  ../input/HD128620 !\n",
      "python cross_match_gaia_hip.py HD128621 \n",
      "Created TAP+ (v1.2.1) - Connection:\n",
      "\tHost: gea.esac.esa.int\n",
      "\tUse HTTPS: True\n",
      "\tPort: 443\n",
      "\tSSL Port: 443\n",
      "Created TAP+ (v1.2.1) - Connection:\n",
      "\tHost: geadata.esac.esa.int\n",
      "\tUse HTTPS: True\n",
      "\tPort: 443\n",
      "\tSSL Port: 443\n",
      "star: HD128621\n",
      "ra1=219.8960963\n",
      "dec1=-59.1624723\n",
      "HIP71681\n",
      "   solution_id designation source_id random_index ref_epoch ra ra_error dec\n",
      "NA          NA          NA        NA           NA        NA NA       NA  NA\n",
      "   dec_error parallax parallax_error parallax_over_error pmra pmra_error pmdec\n",
      "NA        NA       NA             NA                  NA   NA         NA    NA\n",
      "   pmdec_error ra_dec_corr ra_parallax_corr ra_pmra_corr ra_pmdec_corr\n",
      "NA          NA          NA               NA           NA            NA\n",
      "   dec_parallax_corr dec_pmra_corr dec_pmdec_corr parallax_pmra_corr\n",
      "NA                NA            NA             NA                 NA\n",
      "   parallax_pmdec_corr pmra_pmdec_corr astrometric_n_obs_al\n",
      "NA                  NA              NA                   NA\n",
      "   astrometric_n_obs_ac astrometric_n_good_obs_al astrometric_n_bad_obs_al\n",
      "NA                   NA                        NA                       NA\n",
      "   astrometric_gof_al astrometric_chi2_al astrometric_excess_noise\n",
      "NA                 NA                  NA                       NA\n",
      "   astrometric_excess_noise_sig astrometric_params_solved\n",
      "NA                           NA                        NA\n",
      "   astrometric_primary_flag astrometric_weight_al astrometric_pseudo_colour\n",
      "NA                       NA                    NA                        NA\n",
      "   astrometric_pseudo_colour_error mean_varpi_factor_al\n",
      "NA                              NA                   NA\n",
      "   astrometric_matched_observations visibility_periods_used\n",
      "NA                               NA                      NA\n",
      "   astrometric_sigma5d_max frame_rotator_object_type matched_observations\n",
      "NA                      NA                        NA                   NA\n",
      "   duplicated_source phot_g_n_obs phot_g_mean_flux phot_g_mean_flux_error\n",
      "NA                NA           NA               NA                     NA\n",
      "   phot_g_mean_flux_over_error phot_g_mean_mag phot_bp_n_obs phot_bp_mean_flux\n",
      "NA                          NA              NA            NA                NA\n",
      "   phot_bp_mean_flux_error phot_bp_mean_flux_over_error phot_bp_mean_mag\n",
      "NA                      NA                           NA               NA\n",
      "   phot_rp_n_obs phot_rp_mean_flux phot_rp_mean_flux_error\n",
      "NA            NA                NA                      NA\n",
      "   phot_rp_mean_flux_over_error phot_rp_mean_mag phot_bp_rp_excess_factor\n",
      "NA                           NA               NA                       NA\n",
      "   phot_proc_mode bp_rp bp_g g_rp radial_velocity radial_velocity_error\n",
      "NA             NA    NA   NA   NA              NA                    NA\n",
      "   rv_nb_transits rv_template_teff rv_template_logg rv_template_fe_h\n",
      "NA             NA               NA               NA               NA\n",
      "   phot_variable_flag  l  b ecl_lon ecl_lat priam_flags teff_val\n",
      "NA                 NA NA NA      NA      NA          NA       NA\n",
      "   teff_percentile_lower teff_percentile_upper a_g_val a_g_percentile_lower\n",
      "NA                    NA                    NA      NA                   NA\n",
      "   a_g_percentile_upper e_bp_min_rp_val e_bp_min_rp_percentile_lower\n",
      "NA                   NA              NA                           NA\n",
      "   e_bp_min_rp_percentile_upper flame_flags radius_val radius_percentile_lower\n",
      "NA                           NA          NA         NA                      NA\n",
      "   radius_percentile_upper lum_val lum_percentile_lower lum_percentile_upper\n",
      "NA                      NA      NA                   NA                   NA\n",
      "   datalink_url epoch_photometry_url HIP RV eRV\n",
      "NA           NA                   NA  NA NA  NA\n",
      "Error in `[.data.frame`(astro, \"Plx\") : undefined columns selected\n",
      "Calls: source ... source -> withVisible -> eval -> eval -> [ -> [.data.frame\n",
      "Execution halted\n"
     ]
    }
   ],
   "source": [
    "# cd into the code directory\n",
    "%cd ../code\n",
    "\n",
    "# run PEXO via the R script\n",
    "! Rscript pexo.R -p HD128621 -m fit -N 1e3 -o ../results/aCen-fit.out"
   ]
  },
  {
   "cell_type": "markdown",
   "metadata": {},
   "source": [
    "## Output\n",
    "\n",
    "The output file (`out.txt`) contains a table with 6 columns. Julian dates are divided into integer and decimal parts to preserve precision."
   ]
  },
  {
   "cell_type": "code",
   "execution_count": 3,
   "metadata": {
    "scrolled": false
   },
   "outputs": [
    {
     "ename": "FileNotFoundError",
     "evalue": "[Errno 2] No such file or directory: '../results/aCenB-out.txt'",
     "output_type": "error",
     "traceback": [
      "\u001b[0;31m---------------------------------------------------------------------------\u001b[0m",
      "\u001b[0;31mFileNotFoundError\u001b[0m                         Traceback (most recent call last)",
      "\u001b[0;32m~/soft/miniconda3/lib/python3.7/site-packages/IPython/core/formatters.py\u001b[0m in \u001b[0;36m__call__\u001b[0;34m(self, obj)\u001b[0m\n\u001b[1;32m    343\u001b[0m             \u001b[0mmethod\u001b[0m \u001b[0;34m=\u001b[0m \u001b[0mget_real_method\u001b[0m\u001b[0;34m(\u001b[0m\u001b[0mobj\u001b[0m\u001b[0;34m,\u001b[0m \u001b[0mself\u001b[0m\u001b[0;34m.\u001b[0m\u001b[0mprint_method\u001b[0m\u001b[0;34m)\u001b[0m\u001b[0;34m\u001b[0m\u001b[0;34m\u001b[0m\u001b[0m\n\u001b[1;32m    344\u001b[0m             \u001b[0;32mif\u001b[0m \u001b[0mmethod\u001b[0m \u001b[0;32mis\u001b[0m \u001b[0;32mnot\u001b[0m \u001b[0;32mNone\u001b[0m\u001b[0;34m:\u001b[0m\u001b[0;34m\u001b[0m\u001b[0;34m\u001b[0m\u001b[0m\n\u001b[0;32m--> 345\u001b[0;31m                 \u001b[0;32mreturn\u001b[0m \u001b[0mmethod\u001b[0m\u001b[0;34m(\u001b[0m\u001b[0;34m)\u001b[0m\u001b[0;34m\u001b[0m\u001b[0;34m\u001b[0m\u001b[0m\n\u001b[0m\u001b[1;32m    346\u001b[0m             \u001b[0;32mreturn\u001b[0m \u001b[0;32mNone\u001b[0m\u001b[0;34m\u001b[0m\u001b[0;34m\u001b[0m\u001b[0m\n\u001b[1;32m    347\u001b[0m         \u001b[0;32melse\u001b[0m\u001b[0;34m:\u001b[0m\u001b[0;34m\u001b[0m\u001b[0;34m\u001b[0m\u001b[0m\n",
      "\u001b[0;32m~/repositories/pexo/demos/utilities.py\u001b[0m in \u001b[0;36m_repr_html_\u001b[0;34m(self)\u001b[0m\n\u001b[1;32m     42\u001b[0m \u001b[0;34m\u001b[0m\u001b[0m\n\u001b[1;32m     43\u001b[0m     \u001b[0;32mdef\u001b[0m \u001b[0m_repr_html_\u001b[0m\u001b[0;34m(\u001b[0m\u001b[0mself\u001b[0m\u001b[0;34m)\u001b[0m\u001b[0;34m:\u001b[0m\u001b[0;34m\u001b[0m\u001b[0;34m\u001b[0m\u001b[0m\n\u001b[0;32m---> 44\u001b[0;31m         \u001b[0mrows\u001b[0m \u001b[0;34m=\u001b[0m \u001b[0mself\u001b[0m\u001b[0;34m.\u001b[0m\u001b[0m_read_table\u001b[0m\u001b[0;34m(\u001b[0m\u001b[0;34m)\u001b[0m\u001b[0;34m\u001b[0m\u001b[0;34m\u001b[0m\u001b[0m\n\u001b[0m\u001b[1;32m     45\u001b[0m         \u001b[0mhtml_rows\u001b[0m \u001b[0;34m=\u001b[0m \u001b[0;34m[\u001b[0m\u001b[0;34m]\u001b[0m\u001b[0;34m\u001b[0m\u001b[0;34m\u001b[0m\u001b[0m\n\u001b[1;32m     46\u001b[0m \u001b[0;34m\u001b[0m\u001b[0m\n",
      "\u001b[0;32m~/repositories/pexo/demos/utilities.py\u001b[0m in \u001b[0;36m_read_table\u001b[0;34m(self)\u001b[0m\n\u001b[1;32m     29\u001b[0m \u001b[0;34m\u001b[0m\u001b[0m\n\u001b[1;32m     30\u001b[0m     \u001b[0;32mdef\u001b[0m \u001b[0m_read_table\u001b[0m\u001b[0;34m(\u001b[0m\u001b[0mself\u001b[0m\u001b[0;34m)\u001b[0m\u001b[0;34m:\u001b[0m\u001b[0;34m\u001b[0m\u001b[0;34m\u001b[0m\u001b[0m\n\u001b[0;32m---> 31\u001b[0;31m         \u001b[0;32mwith\u001b[0m \u001b[0mopen\u001b[0m\u001b[0;34m(\u001b[0m\u001b[0mself\u001b[0m\u001b[0;34m.\u001b[0m\u001b[0mpath\u001b[0m\u001b[0;34m,\u001b[0m \u001b[0;34m\"r\"\u001b[0m\u001b[0;34m)\u001b[0m \u001b[0;32mas\u001b[0m \u001b[0mf\u001b[0m\u001b[0;34m:\u001b[0m\u001b[0;34m\u001b[0m\u001b[0;34m\u001b[0m\u001b[0m\n\u001b[0m\u001b[1;32m     32\u001b[0m             \u001b[0mlines\u001b[0m \u001b[0;34m=\u001b[0m \u001b[0mf\u001b[0m\u001b[0;34m.\u001b[0m\u001b[0mreadlines\u001b[0m\u001b[0;34m(\u001b[0m\u001b[0;34m)\u001b[0m\u001b[0;34m\u001b[0m\u001b[0;34m\u001b[0m\u001b[0m\n\u001b[1;32m     33\u001b[0m             \u001b[0;32mif\u001b[0m \u001b[0mself\u001b[0m\u001b[0;34m.\u001b[0m\u001b[0mtake_all\u001b[0m\u001b[0;34m:\u001b[0m\u001b[0;34m\u001b[0m\u001b[0;34m\u001b[0m\u001b[0m\n",
      "\u001b[0;31mFileNotFoundError\u001b[0m: [Errno 2] No such file or directory: '../results/aCenB-out.txt'"
     ]
    },
    {
     "data": {
      "text/plain": [
       "<utilities.Table at 0x7ff474022490>"
      ]
     },
     "execution_count": 3,
     "metadata": {},
     "output_type": "execute_result"
    }
   ],
   "source": [
    "Table(\"../results/aCenB-out.txt\")"
   ]
  },
  {
   "cell_type": "code",
   "execution_count": null,
   "metadata": {},
   "outputs": [],
   "source": []
  }
 ],
 "metadata": {
  "file_extension": ".py",
  "kernelspec": {
   "display_name": "pexo",
   "language": "python",
   "name": "pexo"
  },
  "language_info": {
   "codemirror_mode": {
    "name": "ipython",
    "version": 3
   },
   "file_extension": ".py",
   "mimetype": "text/x-python",
   "name": "python",
   "nbconvert_exporter": "python",
   "pygments_lexer": "ipython3",
   "version": "3.7.4"
  },
  "mimetype": "text/x-python",
  "name": "python",
  "npconvert_exporter": "python",
  "pygments_lexer": "ipython3",
  "version": 3
 },
 "nbformat": 4,
 "nbformat_minor": 2
}
