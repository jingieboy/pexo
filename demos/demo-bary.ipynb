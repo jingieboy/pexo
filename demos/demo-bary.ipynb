{
 "cells": [
  {
   "cell_type": "markdown",
   "metadata": {},
   "source": [
    "# Barycentric radial velocity\n",
    "<a id='top'></a>\n",
    "\n",
    "This demo shows how to calculate barycentric radial velocity for a list of UTC Julian dates, using τ Ceti as an example."
   ]
  },
  {
   "cell_type": "markdown",
   "metadata": {},
   "source": [
    "## Arguments:\n",
    "\n",
    "`-p HD10700` - primary star: τ Ceti\n",
    "\n",
    "`-i HARPS` - instrument: HARPS\n",
    "\n",
    "`-t '2450000 2460000 10'` - epochs, JD from 2450000 to 2460000, every 10 days\n",
    "\n",
    "`-m emulate` - PEXO mode\n",
    "\n",
    "`-v 'JDutc ZB'` - output variables\n",
    "\n",
    "`-o bary-out.txt` - output file"
   ]
  },
  {
   "cell_type": "markdown",
   "metadata": {},
   "source": [
    "## Run the code\n",
    "\n",
    "Execute PEXO with the command below. This may take a few minutes to compute."
   ]
  },
  {
   "cell_type": "code",
   "execution_count": 1,
   "metadata": {
    "scrolled": true
   },
   "outputs": [
    {
     "name": "stdout",
     "output_type": "stream",
     "text": [
      "/home/timberhill/repositories/pexo/code\n",
      "Warning message:\n",
      "package ‘optparse’ was built under R version 3.6.3 \n",
      "Loading required package: polynom\n",
      "Warning messages:\n",
      "1: package ‘orthopolynom’ was built under R version 3.6.3 \n",
      "2: package ‘polynom’ was built under R version 3.6.3 \n",
      "\n",
      "Attaching package: ‘pracma’\n",
      "\n",
      "The following object is masked from ‘package:polynom’:\n",
      "\n",
      "    integral\n",
      "\n",
      "Warning message:\n",
      "package ‘pracma’ was built under R version 3.6.3 \n",
      "Warning message:\n",
      "package ‘foreach’ was built under R version 3.6.3 \n",
      "Loading required package: iterators\n",
      "Loading required package: parallel\n",
      "Warning messages:\n",
      "1: package ‘doMC’ was built under R version 3.6.3 \n",
      "2: package ‘iterators’ was built under R version 3.6.3 \n",
      "Warning message:\n",
      "package ‘MASS’ was built under R version 3.6.3 \n",
      "\n",
      "Input Parameters:\n",
      "mode = emulate \tins = HARPS \tNiter = 1000 \tPlanet = 0 \tgeometry = TRUE \tncore = 4 \tcomponent = TAR \ttime = 2450000 2460000 10 \tprimary = HD10700 \tmass = 1 \tvar = JDutc ZB \tout = bary-out.txt \tfigure = FALSE \tverbose = FALSE \thelp = FALSE \tdata = ../input/HD10700 \tpar = ../input/basic.par \t\n",
      "\n",
      "Read data files:\n",
      "python cross_match_gaia_hip.py HD10700 \n",
      "Created TAP+ (v1.2.1) - Connection:\n",
      "\tHost: gea.esac.esa.int\n",
      "\tUse HTTPS: True\n",
      "\tPort: 443\n",
      "\tSSL Port: 443\n",
      "Created TAP+ (v1.2.1) - Connection:\n",
      "\tHost: geadata.esac.esa.int\n",
      "\tUse HTTPS: True\n",
      "\tPort: 443\n",
      "\tSSL Port: 443\n",
      "star: HD10700\n",
      "ra1=26.0170143\n",
      "dec1=-14.0625213\n",
      "HIP8102\n",
      "star= HD10700 \n",
      "ra= 26.00930287666994 \n",
      "dec= -15.9337986509412 \n",
      "plx= 277.516215785613 \n",
      "pmra= -1729.725724191139 \n",
      "pmdec= 855.492578244384 \n",
      "rv= -16.597 \n",
      "epoch= 2457206.375 \n",
      "PEXO will treat the target system as a single star!\n",
      "\n",
      "Loading ephermides and EOP and other auxiliary data!\n",
      "\n",
      " Plot and save results!\n",
      "\n",
      "save data to bary-out.txt \n",
      "\n",
      "Timing effects:\n",
      "Instant second order roemer delay in the solar system: 0.0002916009326154541 second\n",
      "Einstein delay in the solar system: 0.00168900119569132 second\n",
      "Shapiro delay due to all solar system objects: 2.980955673477595e-05 second\n",
      "Shapiro delay due to Sun : 2.980955673477595e-05 second\n",
      "Delay due to proper motion: 1821.991542766735 second\n",
      "Roemer delay in the target system: 0 second\n",
      "Einstein delay in the target system: 0 second\n",
      "Shapiro delay in TS: 0 second\n",
      "Delay due to atmospheric effect: 8.490128818735825e-08 second\n",
      "../results/AllTimes_HD10700_timing_none_Ntime1001.pdf \n",
      "\n",
      "Astrometry effects:\n",
      "Second order aberration: 27.25825702011627 as\n",
      "Third order aberration: 12.12148669915688 as\n",
      "Target system lensing: 0 as\n",
      "Second order geometric effect: 0.169032755695749 as\n",
      "Third order geometric effect: 4.803841283709903e-07 as\n",
      "Atmospheric refraction: 0 as\n",
      "../results/absolute_HD10700_astrometry_none_Ntime1001_none.pdf \n",
      "\n",
      "RV effects:\n",
      "Relativistic effects in solar system: 0.2016019240721914 m/s\n",
      "SR effect in TS: 0 m/s\n",
      "GR effect in TS: 0 m/s\n",
      "lensing effect in target system: 0 m/s\n",
      "Second order geometric effects in TS: 0.07359618183219858 m/s\n",
      "Third order geometric effects in TS: 1.139334606699701e-07 m/s\n",
      "Tropospheric RV: 0.00822362250552014 m/s for elevation > 10 deg\n",
      "Tropospheric RV: 0.03421570988431846 m/s for elevation > 5 deg\n",
      "Tropospheric RV: 130.6197136984373 m/s for all elevation angles\n",
      "../results/paper_HD10700_RV_none_Ntime1001_none.pdf \n",
      "Total computation time: 0.641 min\n"
     ]
    }
   ],
   "source": [
    "# cd into the code directory\n",
    "%cd ../code\n",
    "\n",
    "# run PEXO via the R script\n",
    "! Rscript pexo.R -p HD10700 -i HARPS -t '2450000 2460000 10' -m emulate -v 'JDutc ZB' -o bary-out.txt"
   ]
  },
  {
   "cell_type": "markdown",
   "metadata": {},
   "source": [
    "## Output\n",
    "\n",
    "The output file (`out.txt`) contains a table with 3 columns. Julian dates are divided into integer and decimal parts to preserve precision and the barycentric correction is expressed as redshift."
   ]
  },
  {
   "cell_type": "code",
   "execution_count": 2,
   "metadata": {
    "scrolled": false
   },
   "outputs": [
    {
     "data": {
      "text/html": [
       "<table style=\"text-align: left; font-size: 10pt\"><tr><th style=\"text-align: left; min-width:100px\">JDutc1</th><th style=\"text-align: left; min-width:100px\">JDutc2</th><th style=\"text-align: left; min-width:100px\">ZB\n",
       "</th></tr><tr><td style=\"text-align: left; min-width:100px\">2450000</td><td style=\"text-align: left; min-width:100px\">0</td><td style=\"text-align: left; min-width:100px\">3.56393283773571e-08\n",
       "</td></tr><tr><td style=\"text-align: left; min-width:100px\">2450010</td><td style=\"text-align: left; min-width:100px\">0</td><td style=\"text-align: left; min-width:100px\">-1.50477512517178e-05\n",
       "</td></tr><tr><td style=\"text-align: left; min-width:100px\">2450020</td><td style=\"text-align: left; min-width:100px\">0</td><td style=\"text-align: left; min-width:100px\">-3.02848580082671e-05\n",
       "</td></tr><tr><td style=\"text-align: left; min-width:100px\">2450030</td><td style=\"text-align: left; min-width:100px\">0</td><td style=\"text-align: left; min-width:100px\">-4.46032860292878e-05\n",
       "</td></tr><tr><td style=\"text-align: left; min-width:100px\">2450040</td><td style=\"text-align: left; min-width:100px\">0</td><td style=\"text-align: left; min-width:100px\">-5.77421481505747e-05\n",
       "</td></tr><tr><td style=\"text-align: left; min-width:100px\">...</td></tr><tr><td style=\"text-align: left; min-width:100px\">2459970</td><td style=\"text-align: left; min-width:100px\">0</td><td style=\"text-align: left; min-width:100px\">-8.71174327322644e-05\n",
       "</td></tr><tr><td style=\"text-align: left; min-width:100px\">2459980</td><td style=\"text-align: left; min-width:100px\">0</td><td style=\"text-align: left; min-width:100px\">-8.08471812269174e-05\n",
       "</td></tr><tr><td style=\"text-align: left; min-width:100px\">2459990</td><td style=\"text-align: left; min-width:100px\">0</td><td style=\"text-align: left; min-width:100px\">-7.22349113527754e-05\n",
       "</td></tr></table>"
      ],
      "text/plain": [
       "<utilities.Table at 0x7ff8c0969050>"
      ]
     },
     "execution_count": 2,
     "metadata": {},
     "output_type": "execute_result"
    }
   ],
   "source": [
    "from utilities import Table\n",
    "Table(\"bary-out.txt\")"
   ]
  },
  {
   "cell_type": "code",
   "execution_count": null,
   "metadata": {},
   "outputs": [],
   "source": []
  }
 ],
 "metadata": {
  "file_extension": ".py",
  "kernelspec": {
   "display_name": "Python 3",
   "language": "python",
   "name": "python3"
  },
  "language_info": {
   "codemirror_mode": {
    "name": "ipython",
    "version": 3
   },
   "file_extension": ".py",
   "mimetype": "text/x-python",
   "name": "python",
   "nbconvert_exporter": "python",
   "pygments_lexer": "ipython3",
   "version": "3.7.4"
  },
  "mimetype": "text/x-python",
  "name": "python",
  "npconvert_exporter": "python",
  "pygments_lexer": "ipython3",
  "version": 3
 },
 "nbformat": 4,
 "nbformat_minor": 2
}
