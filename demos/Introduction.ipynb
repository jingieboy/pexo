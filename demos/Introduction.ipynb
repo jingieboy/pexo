{
 "cells": [
  {
   "cell_type": "markdown",
   "metadata": {},
   "source": [
    "# PEXO demos\n",
    "\n",
    "A collection of demonstrations of PEXO usage.\n",
    "\n",
    "## Introduction\n",
    "\n",
    "PEXO provides joint modelling of *ns* timing, *μas* astrometry (space-based), and *μm s<sup>−1</sup>* radial velocities simultaneously, including effects in both Solar System and a Target system. The maths behind the code is published in Feng et al. 2019 (doi: <a href=\"https://doi.org/10.3847%2F1538-4365%2Fab40b6\">10.3847/1538-4365/ab40b6</a>, arXiv: <a href=\"https://arxiv.org/abs/1910.01750\">1910.01750</a>).\n",
    "\n",
    "These demos use shell commands to run the code, following the <a href=\"https://rpubs.com/Fabo/pexo\">documentation</a>, and the ipython notebooks are just used for presentation and convenience. If you want to see example using python, see the <a href=\"https://github.com/timberhill/pexopy\">PEXOpy repository</a> (work in progress)."
   ]
  },
  {
   "cell_type": "markdown",
   "metadata": {},
   "source": [
    "## Using the teminal\n",
    "\n",
    "To open a terminal, click _New > Terminal_ (on the right), cd into `code` directory and run PEXO as described in the documentation or the demos below (`Rscript pexo.R <arguments>`). You can also open new Jupyter notebooks or RStudio from the same drop-down menu to run R, browse or edit the files, and upload your own files (e.g. input files). Note that your changes are not saved when you close the window or if it times out, so make sure you download any output you'd like to keep.\n"
   ]
  },
  {
   "cell_type": "markdown",
   "metadata": {},
   "source": [
    "## Demos\n",
    "\n",
    "_(Click on the titles to see the live demo and results.)_\n",
    "\n",
    "\n",
    "### 1. [Compare PEXO to other packages using τ Ceti (HD 10700)](demo-emulate-tauCeti.ipynb#top)\n",
    "\n",
    "Here we consider τ Ceti star and assume it has no companions to compare to other packages. This demo reproduces Figure 11 in the paper.\n",
    "\n",
    "### 2. Comparison of JPL ephemerides\n",
    "Coming soon\n",
    "\n",
    "\n",
    "### 3. α Centauri A and B\n",
    "Coming soon\n",
    "\n",
    "\n",
    "### 4. PSR J0740+6620\n",
    "Coming soon\n",
    "\n",
    "\n",
    "### 5. δ Del (HD 197461)\n",
    "Coming soon\n",
    "\n",
    "\n",
    "### 6. Barycentric correction of radial velocity\n",
    "Coming soon"
   ]
  }
 ],
 "metadata": {
  "kernelspec": {
   "display_name": "Python 3",
   "language": "python",
   "name": "python3"
  },
  "language_info": {
   "codemirror_mode": {
    "name": "ipython",
    "version": 3
   },
   "file_extension": ".py",
   "mimetype": "text/x-python",
   "name": "python",
   "nbconvert_exporter": "python",
   "pygments_lexer": "ipython3",
   "version": "3.7.4-final"
  }
 },
 "nbformat": 4,
 "nbformat_minor": 4
}