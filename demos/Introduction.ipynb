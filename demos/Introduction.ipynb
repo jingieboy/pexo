{
 "cells": [
  {
   "cell_type": "markdown",
   "metadata": {},
   "source": [
    "# PEXO demos\n",
    "\n",
    "Fabo Feng & Maksym Lisogorskyi\n",
    "\n",
    "## Introduction\n",
    "\n",
    "PEXO provides joint modelling of *ns* timing, *μas* astrometry (space-based), and *μm s<sup>−1</sup>* radial velocities simultaneously, including effects in both Solar System and a Target system. The maths behind the code is published in Feng et al. 2019 (doi: <a href=\"https://doi.org/10.3847%2F1538-4365%2Fab40b6\">10.3847/1538-4365/ab40b6</a>, arXiv: <a href=\"https://arxiv.org/abs/1910.01750\">1910.01750</a>).\n",
    "\n"
   ]
  },
  {
   "cell_type": "markdown",
   "metadata": {},
   "source": [
    "## Demos:\n",
    "\n",
    "### [Tau Ceti](demo-emulate-tauCeti.ipynb#top)\n",
    "\n",
    "Here we consider tau Ceti star and assume it has no companions to compare to other packages. This demo reproduces Figure 11 in the paper."
   ]
  },
  {
   "cell_type": "code",
   "execution_count": null,
   "metadata": {},
   "outputs": [],
   "source": []
  }
 ],
 "metadata": {
  "kernelspec": {
   "display_name": "Python 3",
   "language": "python",
   "name": "python3"
  },
  "language_info": {
   "codemirror_mode": {
    "name": "ipython",
    "version": 3
   },
   "file_extension": ".py",
   "mimetype": "text/x-python",
   "name": "python",
   "nbconvert_exporter": "python",
   "pygments_lexer": "ipython3",
   "version": "3.7.4"
  }
 },
 "nbformat": 4,
 "nbformat_minor": 4
}
